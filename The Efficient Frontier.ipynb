{
 "metadata": {
  "name": "",
  "signature": "sha256:24a8a3b02e090175fbe4d485b4cf2d5c0c2e5e194eb84cdfb223c396a52eabeb"
 },
 "nbformat": 3,
 "nbformat_minor": 0,
 "worksheets": [
  {
   "cells": [
    {
     "cell_type": "heading",
     "level": 1,
     "metadata": {},
     "source": [
      "The Efficient Frontier- Diversification of Portfolio"
     ]
    },
    {
     "cell_type": "markdown",
     "metadata": {},
     "source": [
      "By Terence Tam --6/7/2014"
     ]
    },
    {
     "cell_type": "markdown",
     "metadata": {},
     "source": [
      "We all have to deal with 401K allocation some point in our life right? We are very indecisive in choosing the best subset from a basket of securities that will give us the highest return, yet minimizing the risk. The efficient frontier by Markowitz can help us decide by showing us the minimum risk for each level of expected return and vice versa."
     ]
    },
    {
     "cell_type": "markdown",
     "metadata": {},
     "source": [
      "Let's say you have three funds to choose from. Security A tracks the S&P500, Security B tracks the NASDAQ and prices of the technology sector, and Security C is an indicator of the energy sector. Given we have historical records (daily stock price, daily % return) of these securities, we could find the variance and the covariance for these stocks. The variance of one stock would be the fluctuating price of that particular stock, where a higher variance would indicate the stock has a higher risk because the %return is not guaranteed or fixed. Covariances, on the other hand, indicates how much two stocks follow similar movements. For instance, two stocks both from U.S. market would go down if the broader U.S. market is on a downward trend."
     ]
    },
    {
     "cell_type": "markdown",
     "metadata": {},
     "source": [
      "In our example example, let's say the four securities takes on four random variables. Then he expected % return for the securities are\n",
      "\n",
      "$$\\bar{Z} = \\begin{pmatrix} E(A) \\\\ E(B) \\\\ E(C) \\\\ E(D) \\end{pmatrix} = \\begin{pmatrix} 14 \\\\ 12 \\\\ 15 \\\\ 7 \\end{pmatrix}$$\n",
      "\n",
      "where 14 stands for 14% average expected return for stock A, 12% for stock B, and so on.\n",
      "\n",
      "Then, we also define the sets of weights for the portfolio\n",
      "$$W = \\begin{pmatrix} w_A \\\\ w_B \\\\ w_C \\\\ w_D \\end{pmatrix} $$\n",
      "\n",
      "such that $ w_A + w_B + w_C + w_D $ = the amount of money in total we are investing\n",
      "\n",
      "The total average expected return of a portolio would be\n",
      "\n",
      "$$E(P) = W^{T}\\bar{Z}$$\n",
      "\n",
      "The variance of the portfolio will be\n",
      "\n",
      "$$Var(P) =  Var(W^{T}\\bar{Z}) = W^{T}Var(\\bar{Z})W^{T} = W^{T}\\Sigma W^{T}$$\n",
      "\n",
      "\n",
      "Let's run a simple python program to generate the efficient frontier for our particular choices of securities.\n"
     ]
    },
    {
     "cell_type": "code",
     "collapsed": false,
     "input": [
      "#vector of average % returns of each stock\n",
      "Zbar = array([14, 12, 15, 7])\n",
      "Zbar"
     ],
     "language": "python",
     "metadata": {},
     "outputs": [
      {
       "metadata": {},
       "output_type": "pyout",
       "prompt_number": 4,
       "text": [
        "array([14, 12, 15,  7])"
       ]
      }
     ],
     "prompt_number": 4
    },
    {
     "cell_type": "code",
     "collapsed": false,
     "input": [
      "#Covariance matrix of the stocks\n",
      "S = array([[185, 86.5, 80, 20],[86.5, 196, 76, 13.5],[80, 76, 411, -19],[20, 13.5, -19, 25]])\n",
      "print S"
     ],
     "language": "python",
     "metadata": {},
     "outputs": [
      {
       "output_type": "stream",
       "stream": "stdout",
       "text": [
        "[[ 185.    86.5   80.    20. ]\n",
        " [  86.5  196.    76.    13.5]\n",
        " [  80.    76.   411.   -19. ]\n",
        " [  20.    13.5  -19.    25. ]]\n"
       ]
      }
     ],
     "prompt_number": 5
    },
    {
     "cell_type": "code",
     "collapsed": false,
     "input": [
      "#Unity vector (for calculation purpose)\n",
      "unity = ones(len(Zbar))\n",
      "print unity"
     ],
     "language": "python",
     "metadata": {},
     "outputs": [
      {
       "output_type": "stream",
       "stream": "stdout",
       "text": [
        "[ 1.  1.  1.  1.]\n"
       ]
      }
     ],
     "prompt_number": 6
    },
    {
     "cell_type": "code",
     "collapsed": false,
     "input": [
      "#standard deviations for each stock\n",
      "stddevs = diag(S)**0.5\n",
      "print stddevs"
     ],
     "language": "python",
     "metadata": {},
     "outputs": [
      {
       "output_type": "stream",
       "stream": "stdout",
       "text": [
        "[ 13.60147051  14.          20.27313493   5.        ]\n"
       ]
      }
     ],
     "prompt_number": 7
    },
    {
     "cell_type": "code",
     "collapsed": false,
     "input": [
      "#coefficients for calculate Efficient Frontier, note this is quadratic\n",
      "A = dot(dot(unity,inv(S)),unity.T)\n",
      "B = dot(dot(unity,inv(S)),Zbar.T)\n",
      "C = dot(dot(Zbar,inv(S)),Zbar.T)\n",
      "D = dot(A,C)-B**2\n",
      "print 'A = ', A, '  B = ', B, '  C = ', C, '  D = ', D "
     ],
     "language": "python",
     "metadata": {},
     "outputs": [
      {
       "output_type": "stream",
       "stream": "stdout",
       "text": [
        "A =  0.048323399147   B =  0.367489058893   C =  3.12711596691   D =  0.0160646646416\n"
       ]
      }
     ],
     "prompt_number": 28
    },
    {
     "cell_type": "code",
     "collapsed": false,
     "input": [
      "# Efficient Frontier expected return (0% - 30%)\n",
      "mu = array(range(1,300))/10;"
     ],
     "language": "python",
     "metadata": {},
     "outputs": [],
     "prompt_number": 35
    },
    {
     "cell_type": "code",
     "collapsed": false,
     "input": [
      "# Plot Efficient Frontier\n",
      "minvar = (dot(A,mu**2)-2*dot(B,mu)+C)/D;\n",
      "minstd = sqrt(minvar);\n",
      "print minstd"
     ],
     "language": "python",
     "metadata": {},
     "outputs": [
      {
       "output_type": "stream",
       "stream": "stdout",
       "text": [
        "[ 13.95199017  13.95199017  13.95199017  13.95199017  13.95199017\n",
        "  13.95199017  13.95199017  13.95199017  13.95199017  12.32537456\n",
        "  12.32537456  12.32537456  12.32537456  12.32537456  12.32537456\n",
        "  12.32537456  12.32537456  12.32537456  12.32537456  10.7325578\n",
        "  10.7325578   10.7325578   10.7325578   10.7325578   10.7325578\n",
        "  10.7325578   10.7325578   10.7325578   10.7325578    9.19112867\n",
        "   9.19112867   9.19112867   9.19112867   9.19112867   9.19112867\n",
        "   9.19112867   9.19112867   9.19112867   9.19112867   7.73188245\n",
        "   7.73188245   7.73188245   7.73188245   7.73188245   7.73188245\n",
        "   7.73188245   7.73188245   7.73188245   7.73188245   6.41118372\n",
        "   6.41118372   6.41118372   6.41118372   6.41118372   6.41118372\n",
        "   6.41118372   6.41118372   6.41118372   6.41118372   5.33297832\n",
        "   5.33297832   5.33297832   5.33297832   5.33297832   5.33297832\n",
        "   5.33297832   5.33297832   5.33297832   5.33297832   4.66842044\n",
        "   4.66842044   4.66842044   4.66842044   4.66842044   4.66842044\n",
        "   4.66842044   4.66842044   4.66842044   4.66842044   4.60040775\n",
        "   4.60040775   4.60040775   4.60040775   4.60040775   4.60040775\n",
        "   4.60040775   4.60040775   4.60040775   4.60040775   5.15261721\n",
        "   5.15261721   5.15261721   5.15261721   5.15261721   5.15261721\n",
        "   5.15261721   5.15261721   5.15261721   5.15261721   6.16046162\n",
        "   6.16046162   6.16046162   6.16046162   6.16046162   6.16046162\n",
        "   6.16046162   6.16046162   6.16046162   6.16046162   7.44104973\n",
        "   7.44104973   7.44104973   7.44104973   7.44104973   7.44104973\n",
        "   7.44104973   7.44104973   7.44104973   7.44104973   8.87712033\n",
        "   8.87712033   8.87712033   8.87712033   8.87712033   8.87712033\n",
        "   8.87712033   8.87712033   8.87712033   8.87712033  10.40449039\n",
        "  10.40449039  10.40449039  10.40449039  10.40449039  10.40449039\n",
        "  10.40449039  10.40449039  10.40449039  10.40449039  11.98831454\n",
        "  11.98831454  11.98831454  11.98831454  11.98831454  11.98831454\n",
        "  11.98831454  11.98831454  11.98831454  11.98831454  13.60889641\n",
        "  13.60889641  13.60889641  13.60889641  13.60889641  13.60889641\n",
        "  13.60889641  13.60889641  13.60889641  13.60889641  15.25452549\n",
        "  15.25452549  15.25452549  15.25452549  15.25452549  15.25452549\n",
        "  15.25452549  15.25452549  15.25452549  15.25452549  16.91789422\n",
        "  16.91789422  16.91789422  16.91789422  16.91789422  16.91789422\n",
        "  16.91789422  16.91789422  16.91789422  16.91789422  18.59424245\n",
        "  18.59424245  18.59424245  18.59424245  18.59424245  18.59424245\n",
        "  18.59424245  18.59424245  18.59424245  18.59424245  20.28035183\n",
        "  20.28035183  20.28035183  20.28035183  20.28035183  20.28035183\n",
        "  20.28035183  20.28035183  20.28035183  20.28035183  21.9739755\n",
        "  21.9739755   21.9739755   21.9739755   21.9739755   21.9739755\n",
        "  21.9739755   21.9739755   21.9739755   21.9739755   23.67350076\n",
        "  23.67350076  23.67350076  23.67350076  23.67350076  23.67350076\n",
        "  23.67350076  23.67350076  23.67350076  23.67350076  25.37774198\n",
        "  25.37774198  25.37774198  25.37774198  25.37774198  25.37774198\n",
        "  25.37774198  25.37774198  25.37774198  25.37774198  27.08580898\n",
        "  27.08580898  27.08580898  27.08580898  27.08580898  27.08580898\n",
        "  27.08580898  27.08580898  27.08580898  27.08580898  28.79702101\n",
        "  28.79702101  28.79702101  28.79702101  28.79702101  28.79702101\n",
        "  28.79702101  28.79702101  28.79702101  28.79702101  30.5108489\n",
        "  30.5108489   30.5108489   30.5108489   30.5108489   30.5108489\n",
        "  30.5108489   30.5108489   30.5108489   30.5108489   32.22687531\n",
        "  32.22687531  32.22687531  32.22687531  32.22687531  32.22687531\n",
        "  32.22687531  32.22687531  32.22687531  32.22687531  33.94476682\n",
        "  33.94476682  33.94476682  33.94476682  33.94476682  33.94476682\n",
        "  33.94476682  33.94476682  33.94476682  33.94476682  35.66425392\n",
        "  35.66425392  35.66425392  35.66425392  35.66425392  35.66425392\n",
        "  35.66425392  35.66425392  35.66425392  35.66425392  37.38511644\n",
        "  37.38511644  37.38511644  37.38511644  37.38511644  37.38511644\n",
        "  37.38511644  37.38511644  37.38511644  37.38511644]\n"
       ]
      }
     ],
     "prompt_number": 30
    },
    {
     "cell_type": "code",
     "collapsed": false,
     "input": [
      "figure(figsize=(10,5))\n",
      "plot(minstd,mu,stddevs,Zbar,'*')\n",
      "title('Efficient Frontier with Individual Securities')\n",
      "ylabel('Expected Return (%)')\n",
      "xlabel('Standard Deviation (%)')"
     ],
     "language": "python",
     "metadata": {},
     "outputs": [
      {
       "metadata": {},
       "output_type": "pyout",
       "prompt_number": 40,
       "text": [
        "<matplotlib.text.Text at 0x108c3d950>"
       ]
      },
      {
       "metadata": {},
       "output_type": "display_data",
       "png": "[encoded data removed]",
       "text": [
        "<matplotlib.figure.Figure at 0x108985d90>"
       ]
      }
     ],
     "prompt_number": 40
    },
    {
     "cell_type": "code",
     "collapsed": false,
     "input": [],
     "language": "python",
     "metadata": {},
     "outputs": [],
     "prompt_number": 31
    },
    {
     "cell_type": "code",
     "collapsed": false,
     "input": [],
     "language": "python",
     "metadata": {},
     "outputs": []
    }
   ],
   "metadata": {}
  }
 ]
}